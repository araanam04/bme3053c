{
 "cells": [
  {
   "cell_type": "markdown",
   "metadata": {},
   "source": [
    "# BME3053C - Computer Applications for BME\n",
    "\n",
    "<br/>\n",
    "\n",
    "<h1 align=\"center\">Cursor Introduction</h1>\n",
    "\n",
    "---\n",
    "\n",
    "<center><h2>Lesson 07</h2></center>"
   ]
  },
  {
   "cell_type": "markdown",
   "metadata": {},
   "source": [
    "# What is Cursor?\n",
    "\n",
    "Cursor is an innovative AI-powered code editor that revolutionizes the way developers write and manage code. It combines the functionality of a traditional code editor with advanced artificial intelligence to boost productivity and enhance the coding experience. Here are a few key points about Cursor:\n",
    "\n",
    "- It offers intelligent code completion and suggestions based on context.\n",
    "- Cursor can generate code snippets from natural language descriptions.\n",
    "- It provides powerful refactoring tools to improve code quality and readability.\n",
    "- The editor assists in debugging by identifying potential issues and offering solutions.\n",
    "- Cursor continually learns and adapts to your coding style, becoming more helpful over time."
   ]
  },
  {
   "cell_type": "markdown",
   "metadata": {},
   "source": [
    "# Installing Cursor\n",
    "\n",
    "1. Visit the official Cursor website: https://cursor.sh/\n",
    "2. Download the appropriate version for your operating system (Windows, macOS, or Linux)\n",
    "3. Run the installer and follow the on-screen instructions.\n",
    "   1. Select the option to pull downloaded extensions from vscode\n",
    "4. Install the shell cursor command:\n",
    "  - In Cursor, press Ctrl+Shift+P (Windows/Linux) or Cmd+Shift+P (Mac) to open the Command Palette\n",
    "  - Type \"Install 'cursor' command in PATH\" and select it from the list\n",
    "  - This will install the shell cursor command, allowing you to open Cursor from the terminal using the `cursor` command"
   ]
  },
  {
   "cell_type": "markdown",
   "metadata": {},
   "source": [
    "### AI Commands\n",
    "\n",
    "1. **Open AI Command Palette**: `Ctrl + K` (Windows/Linux) or `Cmd + K` (Mac)\n",
    "   - This opens a command palette where you can type natural language instructions for various AI-assisted tasks.\n",
    "   - Example: Type \"Explain the following code\" to get an explanation of selected code.\n",
    "\n",
    "2. **Generate Code from Comments**: `Ctrl + L` (Windows/Linux) or `Cmd + L` (Mac)\n",
    "   - Use this to generate code based on your comments or natural language descriptions.\n",
    "   - Example:\n",
    "     ```python\n",
    "     # Create a function that calculates the factorial of a number\n",
    "     # Press Ctrl + L or Cmd + L here, and Cursor will generate the function\n",
    "     ```\n",
    "3. **Inline AI Chat**: `Ctrl + I` (Windows/Linux) or `Cmd + I` (Mac)\n",
    "   - This opens an inline chat interface where you can ask questions or request assistance.\n",
    "   - Example: Place your cursor at the end of a line of code, press Ctrl + I, and ask \"How can I optimize this?\""
   ]
  },
  {
   "cell_type": "markdown",
   "metadata": {},
   "source": [
    "### Normal Chat vs Long Context Chat:\n",
    "\n",
    "1. Normal Chat:\n",
    "   - Uses a standard context window (typically around 2000-4000 tokens)\n",
    "   - Suitable for shorter conversations or specific queries\n",
    "   - May forget earlier parts of a long conversation\n",
    "   - Generally faster response times\n",
    "2. Long Context Chat:\n",
    "   - **To use Long Context Chat in Cursor, type '/long' before your prompt in the AI Command Palette.**\n",
    "   - Uses an extended context window (can be 8000 tokens or more)\n",
    "   - Better for maintaining context in lengthy conversations\n",
    "   - Can reference information from much earlier in the chat\n",
    "   - May have slightly slower response times due to processing more information\n",
    "   - Useful for complex tasks that require remembering multiple details\n"
   ]
  },
  {
   "cell_type": "markdown",
   "metadata": {},
   "source": [
    "\n",
    "### Additional Shortcuts\n",
    "*Similar to VSCode*\n",
    "\n",
    "1. **Navigation**:\n",
    "   - `Ctrl + P` (Windows/Linux) or `Cmd + P` (Mac): Quick file navigation\n",
    "   - `Ctrl + Shift + F` (Windows/Linux) or `Cmd + Shift + F` (Mac): Global search\n",
    "\n",
    "2. **Editing**:\n",
    "   - `Alt + Up/Down` (Windows/Linux) or `Option + Up/Down` (Mac): Move line up/down\n",
    "   - `Ctrl + /` (Windows/Linux) or `Cmd + /` (Mac): Toggle line comment\n",
    "   - `Ctrl + D` (Windows/Linux) or `Cmd + D` (Mac): Select next occurrence\n",
    "\n",
    "3. **Code Folding**:\n",
    "   - `Ctrl + Shift + [` (Windows/Linux) or `Cmd + Option + [` (Mac): Fold code block\n",
    "   - `Ctrl + Shift + ]` (Windows/Linux) or `Cmd + Option + ]` (Mac): Unfold code block\n",
    "\n",
    "4. **Multi-cursor**:\n",
    "   - `Alt + Click` (Windows/Linux) or `Option + Click` (Mac): Add cursor\n",
    "   - `Ctrl + Alt + Up/Down` (Windows/Linux) or `Cmd + Option + Up/Down` (Mac): Add cursor above/below\n",
    "\n",
    "5. **Terminal**:\n",
    "   - `Ctrl + \\` (Windows/Linux) or `Cmd + \\` (Mac): Toggle integrated terminal\n",
    "\n",
    "6. **Zen Mode**:\n",
    "   - `Ctrl + K Z` (Windows/Linux) or `Cmd + K Z` (Mac): Toggle Zen mode\n",
    "\n"
   ]
  },
  {
   "cell_type": "markdown",
   "metadata": {},
   "source": [
    "## Key Features of Cursor\n",
    "\n",
    "### 1. AI-Assisted Code Completion\n",
    "\n",
    "Cursor uses advanced language models to provide context-aware code suggestions.\n",
    "\n",
    "You don't need a specific shortcut for AI-assisted code completion. This feature works automatically as you type. However, you can use the AI commands to get more control over how the code should be modified."
   ]
  },
  {
   "cell_type": "markdown",
   "metadata": {},
   "source": [
    "### When Cursor suggests code, you'll notice:\n",
    "\n",
    "1. A ghosted text appears in gray, showing the suggested code completion.\n",
    "2. The suggestion is context-aware, based on your current code and programming language.\n",
    "3. Suggestions can range from a few characters to entire lines or blocks of code.\n",
    "4. As you continue typing, the suggestion may update in real-time.\n",
    "5. You might see multiple suggestions in a dropdown list, allowing you to choose the most appropriate one.\n",
    "6. For longer suggestions, you may see a preview of the entire block in a separate window.\n",
    "7. Cursor may also provide inline documentation or explanations for certain suggestions.\n",
    "\n",
    "**When Cursor suggests code, you can hit Tab to accept the suggestion or Esc to reject it.**\n",
    "\n",
    "Example:"
   ]
  },
  {
   "cell_type": "code",
   "execution_count": 1,
   "metadata": {},
   "outputs": [
    {
     "name": "stdout",
     "output_type": "stream",
     "text": [
      "3.0\n"
     ]
    }
   ],
   "source": [
    "def calculate_average(numbers):\n",
    "  total = 0\n",
    "  for number in numbers:\n",
    "    total += number\n",
    "  print (total / len(numbers))\n",
    "    # Start typing and let Cursor suggest the implementation\n",
    "calculate_average([1,2,3,4,5])"
   ]
  },
  {
   "cell_type": "code",
   "execution_count": 2,
   "metadata": {},
   "outputs": [
    {
     "name": "stdout",
     "output_type": "stream",
     "text": [
      "7\n"
     ]
    }
   ],
   "source": [
    "# Change the names of the variables to make them more descriptive. Use Tab to accept Cursor's autocomplete suggestions.\n",
    "var1=3\n",
    "var2=4\n",
    "\n",
    "var3=var1+var2\n",
    "print (var3)"
   ]
  },
  {
   "cell_type": "markdown",
   "metadata": {},
   "source": [
    "### 2. Natural Language Code Generation\n",
    "\n",
    "You can describe what you want to do in plain English, and Cursor will generate code for you.\n",
    "\n",
    "Example:"
   ]
  },
  {
   "cell_type": "code",
   "execution_count": 21,
   "metadata": {},
   "outputs": [
    {
     "name": "stdout",
     "output_type": "stream",
     "text": [
      "5\n",
      "-5\n",
      "None\n"
     ]
    }
   ],
   "source": [
    "# Ask Cursor: \"Write a function to find the maximum value in a list\"\n",
    "\n",
    "def find_maximum_value(numbers):\n",
    "    if not numbers:\n",
    "        return None\n",
    "    max_value = numbers[0]\n",
    "    for number in numbers:\n",
    "        if number > max_value:\n",
    "            max_value = number\n",
    "    return max_value\n",
    "\n",
    "# Example usage:\n",
    "print(find_maximum_value([1, 2, 3, 4, 5]))  # Output: 5\n",
    "print(find_maximum_value([-10, -20, -30, -5]))  # Output: -5\n",
    "print(find_maximum_value([]))  # Output: None"
   ]
  },
  {
   "cell_type": "markdown",
   "metadata": {},
   "source": [
    "### 3. Code Refactoring\n",
    "\n",
    "Cursor can help you improve your code structure and readability.\n",
    "\n",
    "Example:"
   ]
  },
  {
   "cell_type": "code",
   "execution_count": 4,
   "metadata": {},
   "outputs": [
    {
     "data": {
      "text/plain": [
       "[1, 4, 9, 16, 25]"
      ]
     },
     "execution_count": 4,
     "metadata": {},
     "output_type": "execute_result"
    }
   ],
   "source": [
    "# Ask Cursor: \"Refactor this function to use list comprehension\"\n",
    "def square_numbers(numbers):\n",
    "    return [num ** 2 for num in numbers]\n",
    "square_numbers([1,2,3,4,5])"
   ]
  },
  {
   "cell_type": "markdown",
   "metadata": {},
   "source": [
    "### 4. Debugging Assistance\n",
    "\n",
    "Cursor can help identify and fix errors in your code.\n",
    "\n",
    "Example:"
   ]
  },
  {
   "cell_type": "code",
   "execution_count": 8,
   "metadata": {},
   "outputs": [
    {
     "name": "stdout",
     "output_type": "stream",
     "text": [
      "Error: Division by zero is not allowed.\n"
     ]
    }
   ],
   "source": [
    "# Ask Cursor: \"Debug this code\"\n",
    "# The issue is that we're trying to divide before checking for zero.\n",
    "# Let's fix the order of operations and add proper error handling.\n",
    "def divide_numbers(a, b):\n",
    "    if b == 0:\n",
    "        print(\"Error: Division by zero is not allowed.\")\n",
    "    else:\n",
    "        print(a/b)\n",
    "divide_numbers(10, 0)"
   ]
  },
  {
   "cell_type": "markdown",
   "metadata": {},
   "source": [
    "### 5. Documentation Generation\n",
    "\n",
    "Cursor can automatically generate documentation for your code.\n",
    "\n",
    "Example:"
   ]
  },
  {
   "cell_type": "code",
   "execution_count": 10,
   "metadata": {},
   "outputs": [
    {
     "data": {
      "text/plain": [
       "8.0"
      ]
     },
     "execution_count": 10,
     "metadata": {},
     "output_type": "execute_result"
    }
   ],
   "source": [
    "# Ask Cursor: \"Generate documentation for this function\"\n",
    "def process_data(data, threshold):\n",
    "    \"\"\"\n",
    "    Filters the input data to include only values greater than the threshold and returns the average of the filtered data.\n",
    "\n",
    "    Args:\n",
    "        data (list): A list of numerical values.\n",
    "        threshold (float): The threshold value to filter the data.\n",
    "\n",
    "    Returns:\n",
    "        float: The average of the filtered data.\n",
    "\n",
    "    Raises:\n",
    "        ZeroDivisionError: If no data points are above the threshold, resulting in a division by zero.\n",
    "    \"\"\"\n",
    "    filtered_data = [x for x in data if x > threshold]\n",
    "    return sum(filtered_data) / len(filtered_data)\n",
    "\n",
    "list = [1,2,3,4,5,6,7,8,9,10]\n",
    "process_data(list, 5)"
   ]
  },
  {
   "cell_type": "markdown",
   "metadata": {},
   "source": [
    "#### **✏️ Exercise**\n",
    "\n",
    "1. Use Cursor to create a Matplotlib animation of a circle orbiting around a box.\n",
    "   * **Hint**: You can use Cursor to debug the code if you run into issues.\n"
   ]
  },
  {
   "cell_type": "code",
   "execution_count": 18,
   "metadata": {},
   "outputs": [
    {
     "data": {
      "image/png": "[encoded data removed]",
      "text/plain": [
       "<Figure size 640x480 with 1 Axes>"
      ]
     },
     "metadata": {},
     "output_type": "display_data"
    }
   ],
   "source": [
    "# Import required libraries\n",
    "import matplotlib.pyplot as plt\n",
    "import matplotlib.animation as animation\n",
    "import numpy as np\n",
    "\n",
    "# Set up the figure, axis, and plot element\n",
    "fig, ax = plt.subplots()\n",
    "ax.set_xlim(-5, 5)\n",
    "ax.set_ylim(-5, 5)\n",
    "\n",
    "# Create a box\n",
    "box = plt.Rectangle((-1, -1), 2, 2, fill=None, edgecolor='r')\n",
    "ax.add_patch(box)\n",
    "\n",
    "# Create a circle\n",
    "circle, = ax.plot([3], [3], 'bo', ms=10)\n",
    "# Add circle to the plot\n",
    "ax.add_patch(plt.Circle((3, 3), 0.2, color='blue', fill=True))\n",
    "\n",
    "# Initialization function\n",
    "def init():\n",
    "    circle.set_data([3], [3])\n",
    "    return circle,\n",
    "\n",
    "# Animation function\n",
    "def animate(i):\n",
    "    # Orbit parameters\n",
    "    radius = 1.5\n",
    "    angle = np.radians(i)\n",
    "    \n",
    "    # Update circle position\n",
    "    x = radius * np.cos(angle)\n",
    "    y = radius * np.sin(angle)\n",
    "    circle.set_data([x], [y])  # Fix: Pass lists instead of single values\n",
    "    return circle,\n",
    "\n",
    "# Create animation\n",
    "ani = animation.FuncAnimation(fig, animate, init_func=init, \n",
    "                            frames=360, interval=20, blit=True)\n",
    "\n",
    "try:\n",
    "    # Display the animation\n",
    "    plt.show()\n",
    "except Exception as e:\n",
    "    print(f\"Error displaying animation: {str(e)}\")\n",
    "    # Try to close any open figures to prevent memory leaks\n",
    "    plt.close('all')\n",
    "\n"
   ]
  },
  {
   "cell_type": "markdown",
   "metadata": {},
   "source": [
    "## Conclusion\n",
    "\n",
    "Cursor offers a range of powerful features that can significantly enhance your coding experience. As you become more familiar with these tools, you'll find that they can help you write better code more efficiently."
   ]
  }
 ],
 "metadata": {
  "kernelspec": {
   "display_name": "Python 3",
   "language": "python",
   "name": "python3"
  },
  "language_info": {
   "codemirror_mode": {
    "name": "ipython",
    "version": 3
   },
   "file_extension": ".py",
   "mimetype": "text/x-python",
   "name": "python",
   "nbconvert_exporter": "python",
   "pygments_lexer": "ipython3",
   "version": "3.12.5"
  }
 },
 "nbformat": 4,
 "nbformat_minor": 4
}
